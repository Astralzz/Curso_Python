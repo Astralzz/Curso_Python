{
 "cells": [
  {
   "cell_type": "markdown",
   "id": "1630ec8f",
   "metadata": {},
   "source": [
    "<div  align=\"center\">\n",
    "    <h1>Curso de python basico</h1>\n",
    "    <h2>Edain JCC</h2>\n",
    "</div>"
   ]
  },
  {
   "cell_type": "markdown",
   "id": "be968bcb",
   "metadata": {},
   "source": [
    "<h2>Importaciones</h2>"
   ]
  },
  {
   "cell_type": "code",
   "execution_count": 1,
   "id": "8f131391",
   "metadata": {},
   "outputs": [],
   "source": [
    "import random, string"
   ]
  },
  {
   "cell_type": "markdown",
   "id": "7cdc5fa9",
   "metadata": {},
   "source": [
    "<h2>Prueba basica</h2>"
   ]
  },
  {
   "cell_type": "code",
   "execution_count": 2,
   "id": "518ed524",
   "metadata": {},
   "outputs": [
    {
     "name": "stdout",
     "output_type": "stream",
     "text": [
      "la suma de 134 mas 456 es 590\n"
     ]
    }
   ],
   "source": [
    "#Funsion de suma\n",
    "def suma(n1,n2):\n",
    "    return n1 + n2\n",
    "    \n",
    "#variables\n",
    "n1 = 134\n",
    "n2 = 456\n",
    "#imprimir en consola\n",
    "print(\"la suma de \" + str(n1) + \" mas \" + str(n2) + \" es \" + str(suma(n1,n2)))"
   ]
  },
  {
   "cell_type": "markdown",
   "id": "242ab51e",
   "metadata": {},
   "source": [
    "## Arreglo"
   ]
  },
  {
   "cell_type": "code",
   "execution_count": 3,
   "id": "038f3f8e",
   "metadata": {},
   "outputs": [
    {
     "name": "stdout",
     "output_type": "stream",
     "text": [
      "['1 -> 2', '2 -> 4', '3 -> 6', '4 -> 8', '5 -> 10', '6 -> 12', '7 -> 14', '8 -> 16', '9 -> 18', '10 -> 20', '11 -> 22']\n"
     ]
    }
   ],
   "source": [
    "#Arreglo vacio\n",
    "array = []\n",
    "#for de n a n\n",
    "for i in range (1, 12):\n",
    "    #agregar al arreglo \n",
    "    array.append(str(i) + \" -> \" + str(i*2))\n",
    "\n",
    "print(array)"
   ]
  },
  {
   "cell_type": "markdown",
   "id": "9f20fdd5",
   "metadata": {},
   "source": [
    "# VARIABLES\n",
    "* Entero\n",
    "* Decimal\n",
    "* Booleano"
   ]
  },
  {
   "cell_type": "code",
   "execution_count": 4,
   "id": "61eda9d4",
   "metadata": {},
   "outputs": [
    {
     "name": "stdout",
     "output_type": "stream",
     "text": [
      "Soy un entero 24 -> <class 'int'>\n",
      "Soy un decimal 24.5 -> <class 'float'>\n",
      "Soy un booleano True -> <class 'bool'>\n",
      "Soy una cadena texto -> <class 'str'>\n"
     ]
    }
   ],
   "source": [
    "#Variables\n",
    "entero = 24\n",
    "decimal = 24.5\n",
    "booleano = True\n",
    "cadena = \"texto\"\n",
    "\n",
    "#condicional\n",
    "if booleano:\n",
    "    print(\"Soy un entero \" + str(entero) + \" -> \" + str(type(entero)))\n",
    "    print(\"Soy un decimal \" + str(decimal) + \" -> \" + str(type(decimal)))\n",
    "    print(\"Soy un booleano \" + str(booleano)  + \" -> \" + str(type(booleano)))\n",
    "    print(\"Soy una cadena \" + str(cadena)  + \" -> \" + str(type(cadena)))    "
   ]
  },
  {
   "cell_type": "markdown",
   "id": "f41f2f36",
   "metadata": {},
   "source": [
    "## Operaciones\n",
    "* Suma\n",
    "* Resta\n",
    "* Multiplicacion\n",
    "* Potencia\n",
    "* Division\n",
    "* Division entera\n",
    "* Resto"
   ]
  },
  {
   "cell_type": "code",
   "execution_count": 5,
   "id": "1408d6b9",
   "metadata": {},
   "outputs": [
    {
     "name": "stdout",
     "output_type": "stream",
     "text": [
      "la suma de 92 mas 3 es 95\n",
      "la resta de 92 menos 3 es 89\n",
      "la multiplicacion de 92 por 3 es 276\n",
      "la potenciacion de 92 elebado a 3 es 778688\n",
      "la division de 92 entre 3 es 30.666666666666668\n",
      "El cosiente entero de la division de 92 entre 3 es 30\n",
      "El resto de la division de 92 entre 3 es 2\n"
     ]
    }
   ],
   "source": [
    "#Operaciones\n",
    "n1 = 92\n",
    "n2 = 3\n",
    "#suma -> +\n",
    "print(\"la suma de \" + str(n1) + \" mas \" + str(n2) + \" es \" + str(n1 + n2))\n",
    "#resta -> +\n",
    "print(\"la resta de \" + str(n1) + \" menos \" + str(n2) + \" es \" + str(n1 - n2))\n",
    "#multiplicacion -> *\n",
    "print(\"la multiplicacion de \" + str(n1) + \" por \" + str(n2) + \" es \" + str(n1 * n2))\n",
    "#potenciacion -> *\n",
    "print(\"la potenciacion de \" + str(n1) + \" elebado a \" + str(n2) + \" es \" + str(n1 ** n2))\n",
    "#Division normal\n",
    "print(\"la division de \" + str(n1) + \" entre \" + str(n2) + \" es \" + str(n1 / n2))\n",
    "#Division que devuelve el cociente entero\n",
    "print(\"El cosiente entero de la division de \" + str(n1) + \" entre \" + str(n2) + \" es \" + str(n1 // n2))\n",
    "#Division que devuelve el resto\n",
    "print(\"El resto de la division de \" + str(n1) + \" entre \" + str(n2) + \" es \" + str(n1 % n2))"
   ]
  },
  {
   "cell_type": "markdown",
   "id": "22615bc5",
   "metadata": {},
   "source": [
    "## Algunos metodos para strings\n",
    "### format\n",
    "<p> Sirve para concatenar datos a un string usando {} en los string </p>"
   ]
  },
  {
   "cell_type": "code",
   "execution_count": 6,
   "id": "45cb5e85",
   "metadata": {},
   "outputs": [
    {
     "name": "stdout",
     "output_type": "stream",
     "text": [
      "\n",
      "Hola mi nombre es Edain \n",
      "tengo 24 años\n",
      "trabajo de programador y gano 15.0\n",
      "y no estoy casado\n",
      "\n"
     ]
    }
   ],
   "source": [
    "#Datos\n",
    "nombre = \"Edain\"\n",
    "edad = 24\n",
    "trabajo = \"programador\"\n",
    "salario = 15.000\n",
    "casado = False\n",
    "\n",
    "if(casado):\n",
    "    casado = \"si\"\n",
    "else:\n",
    "    casado = \"no\"\n",
    "\n",
    "#Mensaje\n",
    "Mensaje = '''\n",
    "Hola mi nombre es {} \n",
    "tengo {} años\n",
    "trabajo de {} y gano {}\n",
    "y {} estoy casado\n",
    "'''\n",
    "\n",
    "print(Mensaje.format(nombre, edad, trabajo, salario, casado))\n"
   ]
  },
  {
   "cell_type": "markdown",
   "id": "c889b2a1",
   "metadata": {},
   "source": [
    "### Convercion de textos a mayusculas o minusculas\n",
    "<p> upper() convierte a mayuscula </p>"
   ]
  },
  {
   "cell_type": "code",
   "execution_count": 7,
   "id": "96c8eb8b",
   "metadata": {},
   "outputs": [
    {
     "name": "stdout",
     "output_type": "stream",
     "text": [
      "hola mundo soy edain\n",
      "HOLA MUNDO SOY EDAIN\n"
     ]
    }
   ],
   "source": [
    "texto = \"hola mundo soy edain\"\n",
    "print(texto)\n",
    "textoMa = texto.upper()\n",
    "print(textoMa)"
   ]
  },
  {
   "cell_type": "markdown",
   "id": "b1526eee",
   "metadata": {},
   "source": [
    "<p> lower() convierte a minuscula </p>"
   ]
  },
  {
   "cell_type": "code",
   "execution_count": 8,
   "id": "323a87ba",
   "metadata": {},
   "outputs": [
    {
     "name": "stdout",
     "output_type": "stream",
     "text": [
      "HOLA MUNDO SOY EDAIN\n",
      "hola mundo soy edain\n"
     ]
    }
   ],
   "source": [
    "texto = \"HOLA MUNDO SOY EDAIN\"\n",
    "print(texto)\n",
    "textoMi = texto.lower()\n",
    "print(textoMi)"
   ]
  },
  {
   "cell_type": "markdown",
   "id": "98d8bc36",
   "metadata": {},
   "source": [
    "<p> capitalize() convierte la primera letra en mayuscula </p>"
   ]
  },
  {
   "cell_type": "code",
   "execution_count": 9,
   "id": "924538bc",
   "metadata": {},
   "outputs": [
    {
     "name": "stdout",
     "output_type": "stream",
     "text": [
      "HOLA MUNDO SOY EDAIN\n",
      "Hola mundo soy edain\n"
     ]
    }
   ],
   "source": [
    "texto = \"HOLA MUNDO SOY EDAIN\"\n",
    "print(texto)\n",
    "textoMi = texto.capitalize()\n",
    "print(textoMi)"
   ]
  },
  {
   "cell_type": "markdown",
   "id": "4dea5228",
   "metadata": {},
   "source": [
    "### Separar cadenas y ponerlas en una lista\n",
    "<p> split() separa cadenas por un caracter en especifico </p>"
   ]
  },
  {
   "cell_type": "code",
   "execution_count": 10,
   "id": "e553424c",
   "metadata": {},
   "outputs": [
    {
     "name": "stdout",
     "output_type": "stream",
     "text": [
      "['Hola', 'amigos']\n"
     ]
    }
   ],
   "source": [
    "texto = \"Hola_amigos\"\n",
    "print(texto.split(\"_\"))"
   ]
  },
  {
   "cell_type": "markdown",
   "id": "a3c4c371",
   "metadata": {},
   "source": [
    "<p> Asignar a nuevas variables </p>"
   ]
  },
  {
   "cell_type": "code",
   "execution_count": 11,
   "id": "317fd333",
   "metadata": {},
   "outputs": [
    {
     "name": "stdout",
     "output_type": "stream",
     "text": [
      "Hola\n",
      "amigos\n"
     ]
    }
   ],
   "source": [
    "texto = \"Hola_amigos\"\n",
    "[text1, text2] = texto.split(\"_\")\n",
    "print(text1)\n",
    "print(text2)"
   ]
  },
  {
   "cell_type": "markdown",
   "id": "904ae77b",
   "metadata": {},
   "source": [
    "### Remplazar cadenas por otras\n",
    "<p> replace() remplasar una sub cadena en especifico por otra </p>"
   ]
  },
  {
   "cell_type": "code",
   "execution_count": 12,
   "id": "2514e6a7",
   "metadata": {},
   "outputs": [
    {
     "name": "stdout",
     "output_type": "stream",
     "text": [
      "Hola mi nombre es Edain\n",
      "Hola mi nombre es Jose\n"
     ]
    }
   ],
   "source": [
    "texto = \"Hola mi nombre es Edain\"\n",
    "print(texto)\n",
    "print(texto.replace(\"Edain\", \"Jose\"))"
   ]
  },
  {
   "cell_type": "markdown",
   "id": "cb533a0f",
   "metadata": {},
   "source": [
    "# ESTRUCTURAS DE DATOS\n",
    "## Listas\n",
    "#### Creacion y control de elementos\n",
    "<p>Crear una lista</p>"
   ]
  },
  {
   "cell_type": "code",
   "execution_count": 13,
   "id": "87bdf42e",
   "metadata": {},
   "outputs": [
    {
     "name": "stdout",
     "output_type": "stream",
     "text": [
      "['Pera', 'Mango', 'Manzana', 'Platano', 'Sandia']\n"
     ]
    }
   ],
   "source": [
    "#Lista\n",
    "lista = [\"Pera\", \"Mango\", \"Manzana\", \"Platano\", \"Sandia\"]\n",
    "print(lista)"
   ]
  },
  {
   "cell_type": "markdown",
   "id": "c9dfd847",
   "metadata": {},
   "source": [
    "<p>Optener la longitud de una lista con len() </p>"
   ]
  },
  {
   "cell_type": "code",
   "execution_count": 14,
   "id": "95d63b12",
   "metadata": {},
   "outputs": [
    {
     "name": "stdout",
     "output_type": "stream",
     "text": [
      "la lista ['Pera', 'Mango', 'Manzana', 'Platano', 'Sandia'] tiene 5 elementos\n"
     ]
    }
   ],
   "source": [
    "print(\"la lista \" + str(lista) + \" tiene \" +  str(len(lista)) + \" elementos\")"
   ]
  },
  {
   "cell_type": "markdown",
   "id": "dd8b37e5",
   "metadata": {},
   "source": [
    "saber elemento de una lista"
   ]
  },
  {
   "cell_type": "code",
   "execution_count": 15,
   "id": "6678ecc9",
   "metadata": {},
   "outputs": [
    {
     "name": "stdout",
     "output_type": "stream",
     "text": [
      "['Pera', 'Mango', 'Manzana', 'Platano', 'Sandia']\n",
      "El primer elemento de la lista es Pera\n",
      "El quinto elemento de la lista es Sandia\n"
     ]
    }
   ],
   "source": [
    "print(lista)\n",
    "print(\"El primer elemento de la lista es \" + str(lista[0]))\n",
    "print(\"El quinto elemento de la lista es \" + str(lista[4]))"
   ]
  },
  {
   "cell_type": "markdown",
   "id": "73b32bd6",
   "metadata": {},
   "source": [
    "optener rangos de la lista (desde / asta)"
   ]
  },
  {
   "cell_type": "code",
   "execution_count": 16,
   "id": "e192b5a0",
   "metadata": {},
   "outputs": [
    {
     "name": "stdout",
     "output_type": "stream",
     "text": [
      "['Pera', 'Mango', 'Manzana', 'Platano', 'Sandia']\n",
      "los datos que siguen despues del segundo elemento son ['Manzana', 'Platano', 'Sandia']\n",
      "los datos que estam antes del penultimo elemento son ['Pera', 'Mango', 'Manzana']\n",
      "los datos que de la lista desde el segundo al penultimo elemento son ['Mango', 'Manzana', 'Platano']\n"
     ]
    }
   ],
   "source": [
    "print(lista)\n",
    "print(\"los datos que siguen despues del segundo elemento son \" + str(lista[2:]))\n",
    "print(\"los datos que estam antes del penultimo elemento son \" + str(lista[:3]))\n",
    "print(\"los datos que de la lista desde el segundo al penultimo elemento son \" + str(lista[1:4]))"
   ]
  },
  {
   "cell_type": "markdown",
   "id": "70449560",
   "metadata": {},
   "source": [
    "ultimos elementos"
   ]
  },
  {
   "cell_type": "code",
   "execution_count": 17,
   "id": "296b1ade",
   "metadata": {},
   "outputs": [
    {
     "name": "stdout",
     "output_type": "stream",
     "text": [
      "['Pera', 'Mango', 'Manzana', 'Platano', 'Sandia']\n",
      "el ultimo elemento de la lista es Sandia\n",
      "el penultimo elemento de la lista es Platano\n"
     ]
    }
   ],
   "source": [
    "print(lista)\n",
    "print(\"el ultimo elemento de la lista es \" + str(lista[-1]))\n",
    "print(\"el penultimo elemento de la lista es \" + str(lista[-2]))"
   ]
  },
  {
   "cell_type": "markdown",
   "id": "212b8051",
   "metadata": {},
   "source": [
    "#### Buscar elementos\n",
    "\n",
    "saber si un elemento esta en la lista"
   ]
  },
  {
   "cell_type": "code",
   "execution_count": 18,
   "id": "ca883cdb",
   "metadata": {},
   "outputs": [
    {
     "name": "stdout",
     "output_type": "stream",
     "text": [
      "['Edain', 'Maria', 'Jose', 'Pedro', 'Manuel']\n",
      "¿Jose esta en la lista?: True\n"
     ]
    }
   ],
   "source": [
    "lista = [\"Edain\", \"Maria\", \"Jose\", \"Pedro\", \"Manuel\"]\n",
    "print(lista)\n",
    "\n",
    "#nombre a buscar\n",
    "nombre = \"Jose\"\n",
    "\n",
    "#Si n esta en la lista\n",
    "resultado = nombre in lista\n",
    "print(\"¿\"+ nombre + \" esta en la lista?: \" + str(resultado))"
   ]
  },
  {
   "cell_type": "markdown",
   "id": "5fabfe8c",
   "metadata": {},
   "source": [
    "saber el indice de el elemento buscado (index())"
   ]
  },
  {
   "cell_type": "code",
   "execution_count": 19,
   "id": "cddc108e",
   "metadata": {},
   "outputs": [
    {
     "name": "stdout",
     "output_type": "stream",
     "text": [
      "['Edain', 'Maria', 'Jose', 'Pedro', 'Manuel']\n",
      "Jose esta en el indice 2\n"
     ]
    }
   ],
   "source": [
    "print(lista)\n",
    "#condicional\n",
    "if resultado:\n",
    "    i = lista.index(nombre)\n",
    "    print(nombre + \" esta en el indice {}\".format(i))\n",
    "else:\n",
    "    print(nombre + \" NO esta en la lista\")"
   ]
  },
  {
   "cell_type": "markdown",
   "id": "a726a841",
   "metadata": {},
   "source": [
    "#### Eliminar elementos\n",
    "\n",
    "utilizando el metodo pop()"
   ]
  },
  {
   "cell_type": "code",
   "execution_count": 20,
   "id": "ff2b38bb",
   "metadata": {},
   "outputs": [
    {
     "name": "stdout",
     "output_type": "stream",
     "text": [
      "['Rojo', 'Verde', 'Azul']\n",
      "['Rojo', 'Verde']\n"
     ]
    }
   ],
   "source": [
    "lista = [\"Rojo\", \"Verde\", \"Azul\"]\n",
    "print(lista)\n",
    "\n",
    "#Optenemos el indice del ultimo elemento\n",
    "ultimo = lista.index(lista[-1])\n",
    "#Eliminamos el ultimo elemento\n",
    "lista.pop(ultimo)\n",
    "#Nueva lista\n",
    "print(lista)"
   ]
  },
  {
   "cell_type": "markdown",
   "id": "05260372",
   "metadata": {},
   "source": [
    "#### Inserta elemento en n indice\n",
    "\n",
    "utilizando insert(i, obj)"
   ]
  },
  {
   "cell_type": "code",
   "execution_count": 21,
   "id": "db26e562",
   "metadata": {},
   "outputs": [
    {
     "name": "stdout",
     "output_type": "stream",
     "text": [
      "['Mexico', 'Chile']\n",
      "['Mexico', 'Argentina', 'Chile']\n"
     ]
    }
   ],
   "source": [
    "lista = [\"Mexico\", \"Chile\"]\n",
    "print(lista)\n",
    "#nuevo elemento\n",
    "ne = \"Argentina\"\n",
    "#insertamos en la segunda posicion\n",
    "lista.insert(1,ne)\n",
    "print(lista)"
   ]
  },
  {
   "cell_type": "markdown",
   "id": "11095c58",
   "metadata": {},
   "source": [
    "#### Agregar elemento al final de la lista\n",
    "\n",
    "usando append(obj)"
   ]
  },
  {
   "cell_type": "code",
   "execution_count": 22,
   "id": "28a4f2ae",
   "metadata": {
    "scrolled": true
   },
   "outputs": [
    {
     "name": "stdout",
     "output_type": "stream",
     "text": [
      "['Perro', 'Gato', 'Gallina']\n",
      "['Perro', 'Gato', 'Gallina', 'Elefante']\n"
     ]
    }
   ],
   "source": [
    "lista = [\"Perro\", \"Gato\", \"Gallina\"]\n",
    "print(lista)\n",
    "#nuevo elemento\n",
    "newElement = \"Elefante\"\n",
    "#Agregamos al final de la lista\n",
    "lista.append(newElement)\n",
    "print(lista)"
   ]
  },
  {
   "cell_type": "markdown",
   "id": "2871b892",
   "metadata": {},
   "source": [
    "#### Ordenado elementos de una lista \n",
    "\n",
    "Normal usando --> sort()\n",
    "* De la A a la Z\n",
    "* Del menor al mayor"
   ]
  },
  {
   "cell_type": "code",
   "execution_count": 23,
   "id": "9eaaf9be",
   "metadata": {},
   "outputs": [
    {
     "name": "stdout",
     "output_type": "stream",
     "text": [
      "['Zorro', 'Pantera', 'Aguila', 'Gorila', 'Leon']\n",
      "[2, 4, 7, 0, 12, 35, 24, 3, 2, 1, 7]\n",
      "['Aguila', 'Gorila', 'Leon', 'Pantera', 'Zorro']\n",
      "[0, 1, 2, 2, 3, 4, 7, 7, 12, 24, 35]\n"
     ]
    }
   ],
   "source": [
    "#Listas\n",
    "lista = [\"Zorro\", \"Pantera\", \"Aguila\", \"Gorila\", \"Leon\"]\n",
    "listaN = [2, 4, 7, 0, 12, 35, 24, 3, 2, 1, 7]\n",
    "print(lista)\n",
    "print(listaN)\n",
    "#ordenamos\n",
    "lista.sort()\n",
    "listaN.sort()\n",
    "print(lista)\n",
    "print(listaN)"
   ]
  },
  {
   "cell_type": "markdown",
   "id": "ce62b894",
   "metadata": {},
   "source": [
    "A la inverza usando --> sort(reverse=True)\n",
    "* De la Z a la A \n",
    "* Del mayor al menor "
   ]
  },
  {
   "cell_type": "code",
   "execution_count": 24,
   "id": "ec122cf6",
   "metadata": {},
   "outputs": [
    {
     "name": "stdout",
     "output_type": "stream",
     "text": [
      "['Vaca', 'Zorra', 'Burro', 'Pantera', 'Aguila', 'Gorila', 'Leon']\n",
      "[2, 4, 7, 0, 12, 35, 24, 3, 2, 1, 7]\n",
      "['Zorra', 'Vaca', 'Pantera', 'Leon', 'Gorila', 'Burro', 'Aguila']\n",
      "[35, 24, 12, 7, 7, 4, 3, 2, 2, 1, 0]\n"
     ]
    }
   ],
   "source": [
    "lista = [\"Vaca\", \"Zorra\", \"Burro\", \"Pantera\", \"Aguila\", \"Gorila\", \"Leon\"]\n",
    "listaN = [2, 4, 7, 0, 12, 35, 24, 3, 2, 1, 7]\n",
    "print(lista)\n",
    "print(listaN)\n",
    "#ordenamos\n",
    "lista.sort(reverse=True)\n",
    "listaN.sort(reverse=True)\n",
    "print(lista)\n",
    "print(listaN)"
   ]
  },
  {
   "cell_type": "markdown",
   "id": "b1db879c",
   "metadata": {},
   "source": [
    "#### Voltear una lista \n",
    "\n",
    "voltear una lista donde el ultimo elemento sera el primero y asi sucesivamente"
   ]
  },
  {
   "cell_type": "code",
   "execution_count": 25,
   "id": "ee29800d",
   "metadata": {},
   "outputs": [
    {
     "name": "stdout",
     "output_type": "stream",
     "text": [
      "[1, 2, 3, 4, 'A', 'B', 'C', 'D']\n",
      "['D', 'C', 'B', 'A', 4, 3, 2, 1]\n"
     ]
    }
   ],
   "source": [
    "lista = [1,2,3,4,\"A\",\"B\",\"C\",\"D\"]\n",
    "print(lista)\n",
    "\n",
    "#Volteamos la lista\n",
    "lista.reverse()\n",
    "print(lista)"
   ]
  },
  {
   "cell_type": "markdown",
   "id": "d5499644",
   "metadata": {},
   "source": [
    "## Tuplas\n",
    " Son muy similares a las listas pero se definen con parentesis () y no se pueden modificar o alterar"
   ]
  },
  {
   "cell_type": "markdown",
   "id": "868c3c8e",
   "metadata": {},
   "source": [
    "### Creacion"
   ]
  },
  {
   "cell_type": "code",
   "execution_count": 26,
   "id": "ec3c01b8",
   "metadata": {},
   "outputs": [
    {
     "name": "stdout",
     "output_type": "stream",
     "text": [
      "('Mango', 'Pera', 'Manzana', 'Melon')\n"
     ]
    }
   ],
   "source": [
    "frutas = (\"Mango\", \"Pera\", \"Manzana\", \"Melon\")\n",
    "print(frutas)"
   ]
  },
  {
   "cell_type": "markdown",
   "id": "3da73ddc",
   "metadata": {},
   "source": [
    "## Diccionarios\n",
    "\n",
    "Los diccionarios en Python nos permiten almacenar una serie de mapeos entre dos conjuntos de elementos, llamados keys and values (Claves y Valores). Todos los elementos en el diccionario se encuentran encerrados en un par de corchetes {} \n",
    "\n",
    "### Creacion"
   ]
  },
  {
   "cell_type": "code",
   "execution_count": 27,
   "id": "2f7e2cca",
   "metadata": {},
   "outputs": [
    {
     "name": "stdout",
     "output_type": "stream",
     "text": [
      "{'Agua': 2, 'Aceite': 4, 'Azucar': 7, 'Harina': 3}\n"
     ]
    }
   ],
   "source": [
    "receta = {\"Agua\":2, \"Aceite\":4, \"Azucar\":7, \"Harina\":3}\n",
    "print(receta)"
   ]
  },
  {
   "cell_type": "markdown",
   "id": "9768250a",
   "metadata": {},
   "source": [
    "#### Saber el indice de un elemento"
   ]
  },
  {
   "cell_type": "code",
   "execution_count": 28,
   "id": "60f38ada",
   "metadata": {},
   "outputs": [
    {
     "name": "stdout",
     "output_type": "stream",
     "text": [
      "El indice de Agua es 2\n"
     ]
    }
   ],
   "source": [
    "i = receta[\"Agua\"]\n",
    "print(\"El indice de Agua es {}\".format(i))"
   ]
  },
  {
   "cell_type": "markdown",
   "id": "55841951",
   "metadata": {},
   "source": [
    "### Optener datos\n",
    "#### Obtener las claves de un diccionario\n",
    "\n",
    "Utilizando keys() y guardadolo en una lista"
   ]
  },
  {
   "cell_type": "code",
   "execution_count": 29,
   "id": "4c90860f",
   "metadata": {},
   "outputs": [
    {
     "name": "stdout",
     "output_type": "stream",
     "text": [
      "dict_keys(['Agua', 'Aceite', 'Azucar', 'Harina'])\n",
      "['Agua', 'Aceite', 'Azucar', 'Harina']\n"
     ]
    }
   ],
   "source": [
    "lista = list(receta.keys())\n",
    "print(receta.keys())\n",
    "print(lista)"
   ]
  },
  {
   "cell_type": "markdown",
   "id": "899a6b5b",
   "metadata": {},
   "source": [
    "#### Obtener los valores de un diccionario\n",
    "\n",
    "Utilizando values() y guardadolo en una lista"
   ]
  },
  {
   "cell_type": "code",
   "execution_count": 30,
   "id": "5e0e7926",
   "metadata": {},
   "outputs": [
    {
     "name": "stdout",
     "output_type": "stream",
     "text": [
      "dict_values([2, 4, 7, 3])\n",
      "[2, 4, 7, 3]\n"
     ]
    }
   ],
   "source": [
    "lista = list(receta.values())\n",
    "print(receta.values())\n",
    "print(lista)"
   ]
  },
  {
   "cell_type": "markdown",
   "id": "cac95a5f",
   "metadata": {},
   "source": [
    "#### Saver si un elemento esta en el diccionario\n",
    "\n",
    "utilizando in\n"
   ]
  },
  {
   "cell_type": "code",
   "execution_count": 31,
   "id": "37a52a32",
   "metadata": {},
   "outputs": [
    {
     "name": "stdout",
     "output_type": "stream",
     "text": [
      "Agua SI esta en el diccionario\n"
     ]
    }
   ],
   "source": [
    "res = \"Agua\" in receta\n",
    "t = \"\"\n",
    "if(res):\n",
    "    t = \"SI\"\n",
    "else:\n",
    "    t = \"NO\"\n",
    "\n",
    "print(\"Agua {} esta en el diccionario\".format(t))"
   ]
  },
  {
   "cell_type": "markdown",
   "id": "b6545481",
   "metadata": {},
   "source": [
    "# ESTRUCTURAS CONDICIONALES\n",
    "\n",
    "### usos de if, elif y else"
   ]
  },
  {
   "cell_type": "code",
   "execution_count": 32,
   "id": "a3614611",
   "metadata": {},
   "outputs": [
    {
     "name": "stdout",
     "output_type": "stream",
     "text": [
      "Edain es un anciano\n"
     ]
    }
   ],
   "source": [
    "#valores\n",
    "nombre = \"Edain\"\n",
    "edad = 60\n",
    "#Condicional\n",
    "if edad >= 0 and edad < 17:\n",
    "    print(\"{} es un niño\".format(nombre))\n",
    "elif edad >= 17 and edad < 31:\n",
    "    print(\"{} es un joven\".format(nombre))\n",
    "elif edad >= 31 and edad < 60:\n",
    "    print(\"{} es un adulto\".format(nombre))\n",
    "elif edad >= 60 and edad < 135:\n",
    "    print(\"{} es un anciano\".format(nombre))\n",
    "else:\n",
    "    print(\"ERROR, Edad invalida\")\n",
    "    "
   ]
  },
  {
   "cell_type": "markdown",
   "id": "4695d2c4",
   "metadata": {},
   "source": [
    "### Uso de and ( Y / && )"
   ]
  },
  {
   "cell_type": "code",
   "execution_count": 33,
   "id": "aefed5a3",
   "metadata": {},
   "outputs": [
    {
     "name": "stdout",
     "output_type": "stream",
     "text": [
      "Edad de Maria 12\n",
      "Edad de Maria 18\n",
      "Edad de Jose 11\n",
      "Pedro es el hermano de enmedio\n"
     ]
    }
   ],
   "source": [
    "#Edades de 3 personas\n",
    "edadPedro = random.randint(0, 25);\n",
    "edadMaria = 18;\n",
    "edadJose = 11;\n",
    "\n",
    "print(\"Edad de Maria \" + str(edadPedro))\n",
    "print(\"Edad de Maria \" + str(edadMaria))\n",
    "print(\"Edad de Jose \" + str(edadJose))\n",
    "\n",
    "\n",
    "#si pedro es mayor que Maria Y mayor que Jose\n",
    "if edadPedro > edadMaria and edadPedro > edadJose:\n",
    "    print(\"Pedro es el hermano mayor\")\n",
    "#si pedro es mayor que Maria Y menor que Jose O si pedro es menor que Maria Y mayor que Jose\n",
    "elif edadPedro > edadMaria and edadPedro < edadJose or edadPedro < edadMaria and edadPedro > edadJose:\n",
    "    print(\"Pedro es el hermano de enmedio\")\n",
    "else:\n",
    "    print(\"Pedro es el hermano menor\")\n",
    "    \n"
   ]
  },
  {
   "cell_type": "markdown",
   "id": "14a19cc6",
   "metadata": {},
   "source": [
    "### Uso de or ( 0 - || )"
   ]
  },
  {
   "cell_type": "code",
   "execution_count": 34,
   "id": "d6d01873",
   "metadata": {},
   "outputs": [
    {
     "name": "stdout",
     "output_type": "stream",
     "text": [
      "miercoles es entre semana\n"
     ]
    }
   ],
   "source": [
    "#dias de la semana\n",
    "dias = [\"lunes\", \"martes\",\"miercoles\",\"jueves\", \"viernes\",\"sabado\",\"domingo\"]\n",
    "#Escojemos un dia de la lista\n",
    "dia = random.choice(dias)\n",
    "\n",
    "#Si el dia es sabado o domingo\n",
    "if dia == \"sabado\" or dia == \"domingo\":\n",
    "    print(\"{} es fin de semana\".format(dia))\n",
    "elif dia == \"lunes\" or dia == \"martes\" or dia == \"miercoles\" or dia == \"jueves\" or dia == \"viernes\":\n",
    "    print(\"{} es entre semana\".format(dia))\n",
    "    "
   ]
  },
  {
   "cell_type": "markdown",
   "id": "35da4b52",
   "metadata": {},
   "source": [
    "### Uso de !="
   ]
  },
  {
   "cell_type": "code",
   "execution_count": 35,
   "id": "e24800b2",
   "metadata": {},
   "outputs": [
    {
     "name": "stdout",
     "output_type": "stream",
     "text": [
      "1 NO es igual a 2\n"
     ]
    }
   ],
   "source": [
    "#USO DE !=\n",
    "#Escojemos 2 numero \n",
    "n1 = random.randint(1, 3)\n",
    "n2 = random.randint(1,3)\n",
    "\n",
    "#n1 es diferente de n2\n",
    "if n1 != n2:\n",
    "    print(\"{} NO es igual a {}\".format(n1,n2))\n",
    "else:\n",
    "    print(\"{} y {} son IGUALES\".format(n1,n2))"
   ]
  },
  {
   "cell_type": "markdown",
   "id": "2b212b6b",
   "metadata": {},
   "source": [
    "### Uso de not\n",
    "* En un booleano"
   ]
  },
  {
   "cell_type": "code",
   "execution_count": 36,
   "id": "f95b398b",
   "metadata": {},
   "outputs": [
    {
     "name": "stdout",
     "output_type": "stream",
     "text": [
      "a es verdadero\n"
     ]
    }
   ],
   "source": [
    "a = True\n",
    "#a es falso\n",
    "if not a:\n",
    "    print('a es falso.')\n",
    "else:\n",
    "    print(\"a es verdadero\")"
   ]
  },
  {
   "cell_type": "markdown",
   "id": "c49c618f",
   "metadata": {},
   "source": [
    "* En una cadena"
   ]
  },
  {
   "cell_type": "code",
   "execution_count": 37,
   "id": "df2be293",
   "metadata": {},
   "outputs": [
    {
     "name": "stdout",
     "output_type": "stream",
     "text": [
      "La cadena esta vacía.\n"
     ]
    }
   ],
   "source": [
    "a = \"\"\n",
    " \n",
    "if not a:\n",
    "    print('La cadena esta vacía.')\n",
    "else:\n",
    "    print(a)"
   ]
  },
  {
   "cell_type": "markdown",
   "id": "4ede497b",
   "metadata": {},
   "source": [
    "* En una lista"
   ]
  },
  {
   "cell_type": "code",
   "execution_count": 38,
   "id": "cd1d9c09",
   "metadata": {},
   "outputs": [
    {
     "name": "stdout",
     "output_type": "stream",
     "text": [
      "La lista esta vacía.\n"
     ]
    }
   ],
   "source": [
    "a = []\n",
    "if not a:\n",
    "    print('La lista esta vacía.')\n",
    "else:\n",
    "    print(a)"
   ]
  },
  {
   "cell_type": "markdown",
   "id": "e7ac1bed",
   "metadata": {},
   "source": [
    "* En un diccionario"
   ]
  },
  {
   "cell_type": "code",
   "execution_count": 39,
   "id": "c171da52",
   "metadata": {},
   "outputs": [
    {
     "name": "stdout",
     "output_type": "stream",
     "text": [
      "El diccionario esta vacío.\n"
     ]
    }
   ],
   "source": [
    "a = dict({})\n",
    "if not a:\n",
    "    print('El diccionario esta vacío.')\n",
    "else:\n",
    "    print(a)"
   ]
  },
  {
   "cell_type": "markdown",
   "id": "a44ae76f",
   "metadata": {},
   "source": [
    "* En una tupla"
   ]
  },
  {
   "cell_type": "code",
   "execution_count": 40,
   "id": "636b9ce9",
   "metadata": {},
   "outputs": [
    {
     "name": "stdout",
     "output_type": "stream",
     "text": [
      "('h', 'o', 'l', 'a')\n"
     ]
    }
   ],
   "source": [
    "a = tuple(\"hola\")\n",
    "if not a:\n",
    "    print('La tupla esta vacía.')\n",
    "else:\n",
    "    print(a)"
   ]
  },
  {
   "cell_type": "markdown",
   "id": "f2f5d001",
   "metadata": {},
   "source": [
    "# ESTRUCTURAS REPETITIVAS"
   ]
  },
  {
   "cell_type": "markdown",
   "id": "75bf7568",
   "metadata": {},
   "source": [
    "## While\n",
    "#### Ejemplo 1"
   ]
  },
  {
   "cell_type": "code",
   "execution_count": 41,
   "id": "6e981533",
   "metadata": {},
   "outputs": [
    {
     "name": "stdout",
     "output_type": "stream",
     "text": [
      "3257964274\n",
      "5848484635\n",
      "2359914333\n",
      "4546565851\n",
      "7379845755\n",
      "\n"
     ]
    }
   ],
   "source": [
    "i = 0\n",
    "j = 0\n",
    "cadena = \"\"\n",
    "noAleatorio = random.randint(3, 6)\n",
    "#Estructura 1\n",
    "while i < noAleatorio:\n",
    "    j = 0;\n",
    "    #Estructura 2\n",
    "    while j < noAleatorio*2:\n",
    "        cadena += str(random.randint(1,9))\n",
    "        j +=1\n",
    "    cadena += \"\\n\"\n",
    "    i+=1\n",
    "\n",
    "print(cadena)"
   ]
  },
  {
   "cell_type": "markdown",
   "id": "5b719883",
   "metadata": {},
   "source": [
    "#### Ejemplo 2"
   ]
  },
  {
   "cell_type": "code",
   "execution_count": 42,
   "id": "6b5bc946",
   "metadata": {},
   "outputs": [
    {
     "name": "stdout",
     "output_type": "stream",
     "text": [
      "{3937: 'aQLLw', 3965: 'xOhJ', 1757: 'SDhjUQi', 1868: 'POBMW', 8417: 'QfZQvw', 5927: 'cTzWVdLA', 2560: 'VAAKai', 5530: 'KmcTth', 2300: 'EaPGREU'}\n"
     ]
    }
   ],
   "source": [
    "i = 0;\n",
    "j = 0;\n",
    "n = random.randint(5, 10)\n",
    "dic = dict({})\n",
    "\n",
    "while i < n:\n",
    "    j = 0\n",
    "    cad = \"\"\n",
    "    while j < random.randint(3, 10):\n",
    "        cad+=random.choice(string.ascii_letters)\n",
    "        j+=1\n",
    "    dic[ random.randint(1000, 9999)] = cad\n",
    "    i+=1\n",
    "print(dic)"
   ]
  },
  {
   "cell_type": "markdown",
   "id": "65fd5e13",
   "metadata": {},
   "source": [
    "#### Ejemplo 3 (Uso de while … else )\n",
    "Python ofrece una estructura adicional (else) en el bucle whilw"
   ]
  },
  {
   "cell_type": "code",
   "execution_count": 43,
   "id": "d2216042",
   "metadata": {},
   "outputs": [
    {
     "name": "stdout",
     "output_type": "stream",
     "text": [
      "No se encontró a el alumno Edain\n"
     ]
    }
   ],
   "source": [
    "alumnos = [\"Jose\", \"Pedro\", \"Maria\", \"Pedro\", \"Karen\"]\n",
    "alumnoBuscar = \"Edain\"\n",
    "i = 0\n",
    "while i < len(alumnos):\n",
    "    if alumnos[i] == alumnoBuscar:\n",
    "        print(\"Es(La) alumno(a) {} tiene es el numero {} de la lista\".format(alumnoBuscar, numeros[i]))\n",
    "        break\n",
    "    i += 1\n",
    "else:\n",
    "    print('No se encontró a el alumno {}'.format(alumnoBuscar))"
   ]
  },
  {
   "cell_type": "markdown",
   "id": "0510917a",
   "metadata": {},
   "source": [
    "## Uso de for"
   ]
  },
  {
   "cell_type": "markdown",
   "id": "59e8a39e",
   "metadata": {},
   "source": [
    "#### Ejemplo 1 ( Recooriendo una lista por valor)"
   ]
  },
  {
   "cell_type": "code",
   "execution_count": 44,
   "id": "b9700e6e",
   "metadata": {},
   "outputs": [
    {
     "name": "stdout",
     "output_type": "stream",
     "text": [
      "4 78 9 84 "
     ]
    }
   ],
   "source": [
    "nums = [4, 78, 9, 84]\n",
    "for n in nums:\n",
    "    print(n, end=\" \")"
   ]
  },
  {
   "cell_type": "markdown",
   "id": "d8b4dc60",
   "metadata": {},
   "source": [
    "#### Ejemplo 2 ( Recooriendo diccionarios)"
   ]
  },
  {
   "cell_type": "code",
   "execution_count": 45,
   "id": "9460f69f",
   "metadata": {},
   "outputs": [
    {
     "name": "stdout",
     "output_type": "stream",
     "text": [
      "A E I O \n",
      "4 3 1 0 \n",
      "k= A , v= 4 k= E , v= 3 k= I , v= 1 k= O , v= 0 "
     ]
    }
   ],
   "source": [
    "#Recorrer las claves del diccionario.\n",
    "valores = {'A': 4, 'E': 3, 'I': 1, 'O': 0}\n",
    "for k in valores:\n",
    "    print(k, end=\" \")\n",
    "print()\n",
    "#Iterar sobre los valores del diccionario\n",
    "valores = {'A': 4, 'E': 3, 'I': 1, 'O': 0}\n",
    "for v in valores.values():\n",
    "    print(v, end=\" \")\n",
    "print()\n",
    "#Iterar a la vez sobre la clave y el valor de cada uno de los elementos del diccionario.\n",
    "valores = {'A': 4, 'E': 3, 'I': 1, 'O': 0}\n",
    "for k, v in valores.items():\n",
    "    print('k=', k, ', v=', v, end=\" \")"
   ]
  },
  {
   "cell_type": "markdown",
   "id": "00cb9a46",
   "metadata": {},
   "source": [
    "#### Ejemplo 3 ( for y la clase range)\n",
    "* range(max): Un iterable de números enteros consecutivos que empieza en 0 y acaba en max - 1"
   ]
  },
  {
   "cell_type": "code",
   "execution_count": 46,
   "id": "bf015ee0",
   "metadata": {},
   "outputs": [
    {
     "name": "stdout",
     "output_type": "stream",
     "text": [
      "El elemento 0 de la lista es Perro\n",
      "El elemento 1 de la lista es Gato\n",
      "El elemento 2 de la lista es Vaca\n"
     ]
    }
   ],
   "source": [
    "#Mostrar datos de una lista\n",
    "lista = list([\"Perro\", \"Gato\", \"Vaca\"])\n",
    "for i in range (len(lista)):\n",
    "    print(\"El elemento {} de la lista es {}\".format(i, lista[i]))"
   ]
  },
  {
   "cell_type": "markdown",
   "id": "713af93b",
   "metadata": {},
   "source": [
    "* range(min, max): Un iterable de números enteros consecutivos que empieza en min y acaba en max - 1"
   ]
  },
  {
   "cell_type": "code",
   "execution_count": 47,
   "id": "7296d70d",
   "metadata": {},
   "outputs": [
    {
     "name": "stdout",
     "output_type": "stream",
     "text": [
      "5 6 7 8 9 10 "
     ]
    }
   ],
   "source": [
    "#Mostrar numeros de n a n-1/5 al 10\n",
    "for i in range(5, 11):\n",
    "    print(i, end=\" \")"
   ]
  },
  {
   "cell_type": "markdown",
   "id": "452f7edf",
   "metadata": {},
   "source": [
    "* range(min, max, step): Un iterable de números enteros consecutivos que empieza en min acaba en max - 1 y los valores se van incrementando de step en step. Este último caso simula el bucle for con variable de control."
   ]
  },
  {
   "cell_type": "code",
   "execution_count": 48,
   "id": "89a48567",
   "metadata": {},
   "outputs": [
    {
     "name": "stdout",
     "output_type": "stream",
     "text": [
      "0 2 4 6 8 10 "
     ]
    }
   ],
   "source": [
    "#Por ejemplo, para mostrar por pantalla los números pares del 1 al 10 \n",
    "#podríamos usar la función range del siguiente modo:\n",
    "for num in range(0, 11, 2):\n",
    "    print(num, end=\" \")"
   ]
  },
  {
   "cell_type": "markdown",
   "id": "66f60271",
   "metadata": {},
   "source": [
    "#### Ejemplo 4 (Uso de break. Encontrar un elemento en una colección)"
   ]
  },
  {
   "cell_type": "code",
   "execution_count": 49,
   "id": "0a324466",
   "metadata": {},
   "outputs": [
    {
     "name": "stdout",
     "output_type": "stream",
     "text": [
      "7\n"
     ]
    }
   ],
   "source": [
    "coleccion = [2, 4, 5, 7, 8, 9, 3, 4]\n",
    "for e in coleccion:\n",
    "    if e == 7:\n",
    "        print(e)\n",
    "        break"
   ]
  },
  {
   "cell_type": "markdown",
   "id": "9afd99f0",
   "metadata": {},
   "source": [
    "#### Ejemplo 5 (Uso de continue. Imprimir solo los números pares de una colección)"
   ]
  },
  {
   "cell_type": "code",
   "execution_count": 50,
   "id": "41024fe9",
   "metadata": {},
   "outputs": [
    {
     "name": "stdout",
     "output_type": "stream",
     "text": [
      "2 4 8 4 "
     ]
    }
   ],
   "source": [
    "coleccion = [2, 4, 5, 7, 8, 9, 3, 4]\n",
    "for e in coleccion:\n",
    "    if e % 2 != 0:\n",
    "        continue\n",
    "    print(e, end=\" \")"
   ]
  },
  {
   "cell_type": "markdown",
   "id": "d0a4337f",
   "metadata": {},
   "source": [
    "#### Ejemplo 6 (Uso de for … else )\n",
    "Python ofrece una estructura adicional (else) en el bucle for"
   ]
  },
  {
   "cell_type": "code",
   "execution_count": 51,
   "id": "b3f88e96",
   "metadata": {},
   "outputs": [
    {
     "name": "stdout",
     "output_type": "stream",
     "text": [
      "No se encontró el número 3\n"
     ]
    }
   ],
   "source": [
    "numeros = [1, 2, 4, 6, 5, 8, 6, 4]\n",
    "for i in numeros:\n",
    "    if i == 3:\n",
    "        print(\"Es numero {}, esta en el indice {}\".format(i, numeros[i]))\n",
    "        break\n",
    "else:\n",
    "    print('No se encontró el número 3')"
   ]
  },
  {
   "cell_type": "markdown",
   "id": "9a4315b1",
   "metadata": {},
   "source": [
    "# CONVERSION DE DATOS\n",
    "#### A enteros -> int(x) Convierte x en un entero"
   ]
  },
  {
   "cell_type": "code",
   "execution_count": 52,
   "id": "bd97f33d",
   "metadata": {},
   "outputs": [
    {
     "name": "stdout",
     "output_type": "stream",
     "text": [
      "cadena: 3455\n",
      "entero: 3455\n"
     ]
    }
   ],
   "source": [
    "st = \"3455\"\n",
    "print(\"cadena: {}\".format(st))\n",
    "n = int(st)\n",
    "print(\"entero: {}\".format(n))"
   ]
  },
  {
   "cell_type": "markdown",
   "id": "d9c5b986",
   "metadata": {},
   "source": [
    "#### A n largos -> int(x) Convierte x en un entero largo"
   ]
  },
  {
   "cell_type": "code",
   "execution_count": 53,
   "id": "d4a8640c",
   "metadata": {},
   "outputs": [
    {
     "name": "stdout",
     "output_type": "stream",
     "text": [
      "cadena: 3434567883555665\n",
      "numero largo: 3434567883555665\n"
     ]
    }
   ],
   "source": [
    "st = \"3434567883555665\"\n",
    "print(\"cadena: {}\".format(st))\n",
    "n = int(st)\n",
    "print(\"numero largo: {}\".format(n))"
   ]
  },
  {
   "cell_type": "markdown",
   "id": "ab63e0ec",
   "metadata": {},
   "source": [
    "#### A flotantes -> float(x) Convierte x en un número de punto flotante"
   ]
  },
  {
   "cell_type": "code",
   "execution_count": 54,
   "id": "6f114d21",
   "metadata": {},
   "outputs": [
    {
     "name": "stdout",
     "output_type": "stream",
     "text": [
      "cadena: 245.3466\n",
      "numero decimal: 245.3466\n"
     ]
    }
   ],
   "source": [
    "st = \"245.3466\"\n",
    "print(\"cadena: {}\".format(st))\n",
    "n = float(st)\n",
    "print(\"numero decimal: {}\".format(n))"
   ]
  },
  {
   "cell_type": "markdown",
   "id": "c53f6a3f",
   "metadata": {},
   "source": [
    "#### A cadenas -> str(x) Convierte x a una cadena. x puede ser del tipo float. entero o largo"
   ]
  },
  {
   "cell_type": "code",
   "execution_count": 55,
   "id": "b83c18d5",
   "metadata": {},
   "outputs": [
    {
     "name": "stdout",
     "output_type": "stream",
     "text": [
      "numero: 123.2\n",
      "cadena: 123.2\n"
     ]
    }
   ],
   "source": [
    "n = 123.2\n",
    "print(\"numero: {}\".format(n))\n",
    "st = str(n)\n",
    "print(\"cadena: {}\".format(st))"
   ]
  },
  {
   "cell_type": "markdown",
   "id": "2161c854",
   "metadata": {},
   "source": [
    "#### A hexadecimal -> hex(x) Convierte x entero en una cadena hexadecimal"
   ]
  },
  {
   "cell_type": "code",
   "execution_count": 56,
   "id": "8512cb12",
   "metadata": {},
   "outputs": [
    {
     "name": "stdout",
     "output_type": "stream",
     "text": [
      "entero: 46546\n",
      "cadena hexadecimal: 0xb5d2\n"
     ]
    }
   ],
   "source": [
    "n = 46546\n",
    "print(\"entero: {}\".format(n))\n",
    "hexs = hex(n)\n",
    "print(\"cadena hexadecimal: {}\".format(hexs))"
   ]
  },
  {
   "cell_type": "markdown",
   "id": "4b0adde3",
   "metadata": {},
   "source": [
    "#### A caracter -> chr(x) Convierte x entero a un caracter"
   ]
  },
  {
   "cell_type": "code",
   "execution_count": 57,
   "id": "d656b05e",
   "metadata": {},
   "outputs": [
    {
     "name": "stdout",
     "output_type": "stream",
     "text": [
      "entero: 234\n",
      "caracter: ê\n"
     ]
    }
   ],
   "source": [
    "n = 234\n",
    "print(\"entero: {}\".format(n))\n",
    "c = chr(n)\n",
    "print(\"caracter: {}\".format(c))"
   ]
  },
  {
   "cell_type": "markdown",
   "id": "cd08f463",
   "metadata": {},
   "source": [
    "#### A Enter C -> ord (x) Convierte el carácter x en un entero"
   ]
  },
  {
   "cell_type": "code",
   "execution_count": 58,
   "id": "f0a81304",
   "metadata": {},
   "outputs": [
    {
     "name": "stdout",
     "output_type": "stream",
     "text": [
      "caracter: ê\n",
      "entero: 234\n"
     ]
    }
   ],
   "source": [
    "c = \"ê\"\n",
    "print(\"caracter: {}\".format(c))\n",
    "n = ord(c)\n",
    "print(\"entero: {}\".format(n))\n"
   ]
  },
  {
   "cell_type": "markdown",
   "id": "ea4e3d0a",
   "metadata": {},
   "source": [
    "# LECTURA DE DATOS\n",
    "## Uso de input"
   ]
  },
  {
   "cell_type": "markdown",
   "id": "fb739f92",
   "metadata": {},
   "source": [
    "#### Ejemplo 1"
   ]
  },
  {
   "cell_type": "code",
   "execution_count": 59,
   "id": "05ffc3b9",
   "metadata": {},
   "outputs": [
    {
     "name": "stdout",
     "output_type": "stream",
     "text": [
      "¡Hola! Aqui podras realizar sumas\n",
      "Por favor ingrese el primer valor: 455\n",
      "Por favor ingrese el segundo valor: 566\n",
      "455 + 566 = 1021\n"
     ]
    }
   ],
   "source": [
    "print(\"¡Hola! Aqui podras realizar sumas\")\n",
    "\n",
    "#Pedir datos\n",
    "n1 = input(\"Por favor ingrese el primer valor: \")\n",
    "n2 = input(\"Por favor ingrese el segundo valor: \")\n",
    "\n",
    "#numero1 será entero, así que usamos int()\n",
    "n1 = int(n1)\n",
    "\n",
    "#numero2 será un real, así que usamos float()\n",
    "n2 = int(n2)\n",
    "\n",
    "# Mostramos el resultado de la suma\n",
    "print(n1, \"+\", n2, \"=\", n1 + n2)"
   ]
  },
  {
   "cell_type": "markdown",
   "id": "8251f643",
   "metadata": {},
   "source": [
    "#### Ejemplo 2"
   ]
  },
  {
   "cell_type": "code",
   "execution_count": 60,
   "id": "beea226b",
   "metadata": {},
   "outputs": [
    {
     "name": "stdout",
     "output_type": "stream",
     "text": [
      "Adivina el numero aleatorio\n",
      "Ingresa el intento 1: 3\n",
      "GANASTE, El numero aleatorio es 3\n"
     ]
    }
   ],
   "source": [
    "print(\"Adivina el numero aleatorio\")\n",
    "\n",
    "#Numero aleatorio del 1 al 5\n",
    "nA = random.randint(1, 5)\n",
    "#No de intentos\n",
    "intentos = 3\n",
    "for i in range (intentos):\n",
    "    n = input(\"Ingresa el intento {}: \".format(i+1))\n",
    "    if(int(n) == nA):\n",
    "        print(\"GANASTE, El numero aleatorio es {}\".format(nA))\n",
    "        break\n",
    "else:\n",
    "    print(\"PERDISTE, El numero aleatorio era {}\".format(nA))\n"
   ]
  },
  {
   "cell_type": "markdown",
   "id": "f10d079f",
   "metadata": {},
   "source": [
    "# FUNCIONES\n",
    "\n",
    "### Se utiliza la pabra recervada def\n",
    "\n",
    "#### Ejemplo 1 (Accion)"
   ]
  },
  {
   "cell_type": "code",
   "execution_count": 61,
   "id": "d5926110",
   "metadata": {},
   "outputs": [
    {
     "name": "stdout",
     "output_type": "stream",
     "text": [
      "Hola Pedro\n"
     ]
    }
   ],
   "source": [
    "def saludo(st):\n",
    "    print(\"Hola {}\".format(st))\n",
    "\n",
    "persona = \"Pedro\"\n",
    "saludo(persona)"
   ]
  },
  {
   "cell_type": "markdown",
   "id": "c18983c9",
   "metadata": {},
   "source": [
    "#### Ejemplo 2 (Retornado un valor)"
   ]
  },
  {
   "cell_type": "code",
   "execution_count": 62,
   "id": "a1447a59",
   "metadata": {},
   "outputs": [
    {
     "name": "stdout",
     "output_type": "stream",
     "text": [
      "[1, 3, 6, 2, 7, 4, 9, 8, 3, 6]\n",
      "La suma total de una lista es 49\n"
     ]
    }
   ],
   "source": [
    "def sumarDatosDeUnaLista(lis):\n",
    "    return sum(lis)\n",
    "\n",
    "lista = list([1,3,6,2,7,4,9,8,3,6])\n",
    "print(lista)\n",
    "print(\"La suma total de una lista es {}\".format(sumarDatosDeUnaLista(lista)))"
   ]
  },
  {
   "cell_type": "markdown",
   "id": "72e69c01",
   "metadata": {},
   "source": [
    "#### Ejemplo 3 (Usando *args)\n",
    "*args señala que llegaran n parametros a la funcion sin necesidad de ponerlos y se convertiran en una tupla"
   ]
  },
  {
   "cell_type": "code",
   "execution_count": 63,
   "id": "6faa1ded",
   "metadata": {},
   "outputs": [
    {
     "name": "stdout",
     "output_type": "stream",
     "text": [
      "la tupla que se creo es (7, 9, 10, 6, 9, 6, 7, 9, 10, 3)\n",
      "El promedio de las calificaciones [7, 9, 10, 6, 9, 6, 7, 9, 10, 3] es de 7.6\n"
     ]
    }
   ],
   "source": [
    "#Calcular promedio\n",
    "def calcularPromedio(*args):\n",
    "    print(\"la tupla que se creo es {}\".format(args))\n",
    "    pro = 0\n",
    "    #Recorremos los n valores que nos llegaron\n",
    "    for ar in args:\n",
    "        pro += ar\n",
    "    #Retornamos promedio\n",
    "    return pro/len(args)\n",
    "\n",
    "calificaciones = [7, 9, 10,  6, 9, 6, 7, 9, 10, 3]\n",
    "prom = calcularPromedio(7, 9, 10,  6, 9, 6, 7, 9, 10, 3)\n",
    "print(\"El promedio de las calificaciones {} es de {}\".format(calificaciones, prom))"
   ]
  },
  {
   "cell_type": "markdown",
   "id": "0e1f165b",
   "metadata": {},
   "source": [
    "#### Ejemplo 3 (Usando **kwargs)\n",
    "*kwargs (Clave/Valor) señala que llegaran n parametros a la funcion sin necesidad de ponerlos y se convertiran en un diccionario"
   ]
  },
  {
   "cell_type": "code",
   "execution_count": 64,
   "id": "dbc8b6a5",
   "metadata": {},
   "outputs": [
    {
     "name": "stdout",
     "output_type": "stream",
     "text": [
      "Diccionario que se creo: {'n': 345, 'nombre': 'Jose', 'lista': [3, 5, 7, 4]}\n",
      "clave: n valor: 345\n",
      "clave: nombre valor: Jose\n",
      "clave: lista valor: [3, 5, 7, 4]\n"
     ]
    }
   ],
   "source": [
    "def crearDiccionario(**kwargs):\n",
    "    print(\"Diccionario que se creo: {}\".format(kwargs))\n",
    "    for kw in kwargs:\n",
    "        print(\"clave: {} valor: {}\".format(kw, kwargs[kw]))\n",
    "crearDiccionario(n=345, nombre=\"Jose\", lista=[3,5,7,4]);"
   ]
  },
  {
   "cell_type": "markdown",
   "id": "0c75e835",
   "metadata": {},
   "source": [
    "# EXCEPCIONES\n",
    "### Las principales excepciones definidas en Python son:\n",
    "* TypeError : Ocurre cuando se aplica una operación o función a un dato del tipo inapropiado.\n",
    "* ZeroDivisionError : Ocurre cuando se itenta dividir por cero.\n",
    "* OverflowError : Ocurre cuando un cálculo excede el límite para un tipo de dato numérico.\n",
    "* IndexError : Ocurre cuando se intenta acceder a una secuencia con un índice que no existe.\n",
    "* KeyError : Ocurre cuando se intenta acceder a un diccionario con una clave que no existe.\n",
    "* FileNotFoundError : Ocurre cuando se intenta acceder a un fichero que no existe en la ruta indicada.\n",
    "* ImportError : Ocurre cuando falla la importación de un módulo.\n",
    "\n",
    "### Control de excepciones\n",
    "\n",
    "#### Divicion entre 0"
   ]
  },
  {
   "cell_type": "code",
   "execution_count": 65,
   "id": "a8aa40bb",
   "metadata": {},
   "outputs": [
    {
     "name": "stdout",
     "output_type": "stream",
     "text": [
      "ERROR, ¡No se puede dividir por cero!\n",
      "El resultado de 1 entre 2 es 0.5\n"
     ]
    }
   ],
   "source": [
    "def division(a, b):\n",
    "    \n",
    "    res = \"\"\n",
    "    \n",
    "    try:\n",
    "        result = a / b\n",
    "    except ZeroDivisionError:\n",
    "        res = 'ERROR, ¡No se puede dividir por cero!'\n",
    "    else:\n",
    "        res = 'El resultado de {} entre {} es {}'.format(a, b, (a/b))\n",
    "    finally:\n",
    "        print(res)\n",
    "        \n",
    "\n",
    "division(1, 0)\n",
    "division(1, 2)"
   ]
  },
  {
   "cell_type": "markdown",
   "id": "a479b8b6",
   "metadata": {},
   "source": [
    "#### Error en valor"
   ]
  },
  {
   "cell_type": "code",
   "execution_count": 66,
   "id": "1ce5e73e",
   "metadata": {},
   "outputs": [
    {
     "name": "stdout",
     "output_type": "stream",
     "text": [
      "Escribe un numerodf\n",
      "ERROR, dato invalido\n"
     ]
    }
   ],
   "source": [
    "try:\n",
    "    n = int(input(\"Escribe un numero\"))\n",
    "    print(\"tu valor es {}\".format(n))\n",
    "except ValueError:\n",
    "    print(\"ERROR, dato invalido\")"
   ]
  },
  {
   "cell_type": "markdown",
   "id": "0b9ad9b2",
   "metadata": {},
   "source": [
    "#### Sin espesificar (NO RECOMENDABLE)"
   ]
  },
  {
   "cell_type": "code",
   "execution_count": 67,
   "id": "f1882a3f",
   "metadata": {},
   "outputs": [
    {
     "name": "stdout",
     "output_type": "stream",
     "text": [
      "Escribe un numerodf\n",
      "ERROR, dato invalido\n"
     ]
    }
   ],
   "source": [
    "try:\n",
    "    n = int(input(\"Escribe un numero\"))\n",
    "    print(\"tu valor es {}\".format(n))\n",
    "except:\n",
    "    print(\"ERROR, dato invalido\")"
   ]
  },
  {
   "cell_type": "markdown",
   "id": "bfc19866",
   "metadata": {},
   "source": [
    "# POO\n",
    "\n",
    "## Clases \n",
    "* self es como un this\n",
    "*  pass es un marcador de posición que evita que el programa emita un mensaje de error. La sentencia conserva la sintaxis"
   ]
  },
  {
   "cell_type": "code",
   "execution_count": 90,
   "id": "3b15876d",
   "metadata": {},
   "outputs": [],
   "source": [
    "#Clase\n",
    "class Animal:\n",
    "    #Contructor\n",
    "    def __init__(self, especie, edad):\n",
    "        self.especie = especie\n",
    "        self.edad = edad\n",
    "\n",
    "    # Método genérico pero con implementación particular\n",
    "    def vacio(self):\n",
    "        # Método vacío\n",
    "        pass\n",
    "\n",
    "    # Moverce\n",
    "    def moverse(self, n):\n",
    "        print(\"Soy un(a) {} y me movi {} metros\".format(self.especie, n))\n",
    "\n",
    "    # Método genérico con la misma implementación\n",
    "    def describeme(self):\n",
    "        print(\"Soy un Animal del tipo\", type(self).__name__)"
   ]
  },
  {
   "cell_type": "code",
   "execution_count": 91,
   "id": "154d48c6",
   "metadata": {},
   "outputs": [
    {
     "name": "stdout",
     "output_type": "stream",
     "text": [
      "<class 'type'>\n",
      "<class '__main__.Animal'>\n",
      "Soy un(a) Leon y me movi 2 metros\n",
      "None\n",
      "<class '__main__.Animal'>\n",
      "Soy un(a) Aguila y me movi 32 metros\n",
      "None\n"
     ]
    }
   ],
   "source": [
    "leon = Animal(\"Leon\",12)\n",
    "aguila = Animal(\"Aguila\",3)\n",
    "print(type(Animal))\n",
    "print(type(leon))\n",
    "print(leon.moverse(2))\n",
    "print(type(aguila))\n",
    "print(aguila.moverse(32))\n"
   ]
  },
  {
   "cell_type": "markdown",
   "id": "cdfbbcc1",
   "metadata": {},
   "source": [
    "## Herencia"
   ]
  },
  {
   "cell_type": "code",
   "execution_count": 92,
   "id": "c60a8f3b",
   "metadata": {},
   "outputs": [],
   "source": [
    "#Clase heredada\n",
    "class Perro(Animal):\n",
    "    def hablar(self):\n",
    "        print(\"Guau!\")\n",
    "#Clase heredada\n",
    "class Vaca(Animal):\n",
    "    def hablar(self):\n",
    "        print(\"Mooo!\")"
   ]
  },
  {
   "cell_type": "code",
   "execution_count": 93,
   "id": "8aa8bc93",
   "metadata": {},
   "outputs": [
    {
     "name": "stdout",
     "output_type": "stream",
     "text": [
      "Soy un Animal del tipo Perro\n",
      "Soy un(a) mamífero y me movi 33 metros\n",
      "Guau!\n",
      "Soy un Animal del tipo Vaca\n",
      "Soy un(a) mamífero y me movi 2 metros\n",
      "Mooo!\n"
     ]
    }
   ],
   "source": [
    "#Objetos\n",
    "mi_perro = Perro('mamífero', 10)\n",
    "mi_vaca = Vaca('mamífero', 23)\n",
    "#Acciones\n",
    "mi_perro.describeme()\n",
    "mi_perro.moverse(33)\n",
    "mi_perro.hablar()\n",
    "mi_vaca.describeme()\n",
    "mi_vaca.moverse(2)\n",
    "mi_vaca.hablar()"
   ]
  },
  {
   "cell_type": "markdown",
   "id": "82726b0b",
   "metadata": {},
   "source": [
    "## Palabra super"
   ]
  },
  {
   "cell_type": "code",
   "execution_count": 94,
   "id": "37d84543",
   "metadata": {},
   "outputs": [],
   "source": [
    "#Clase heredada\n",
    "class Oveja(Animal):\n",
    "    \n",
    "    #Constructor\n",
    "    def __init__(self, especie, edad, sexo):\n",
    "        # Palabra super\n",
    "        super().__init__(especie, edad)\n",
    "        self.sexo = sexo\n",
    "    \n",
    "    def hablar(self):\n",
    "        print(\"Beee!\")\n",
    "    \n",
    "    def miSexo(self):\n",
    "        print(\"Soy del sexo {}\".format(self.sexo))"
   ]
  },
  {
   "cell_type": "code",
   "execution_count": 109,
   "id": "718e6a83",
   "metadata": {
    "scrolled": true
   },
   "outputs": [
    {
     "name": "stdout",
     "output_type": "stream",
     "text": [
      "Soy un Animal del tipo Oveja\n",
      "Soy un(a) mamifero y me movi 33 metros\n",
      "Soy del sexo Hembra\n",
      "Beee!\n"
     ]
    }
   ],
   "source": [
    "mi_oveja = Oveja('mamifero', 4, \"Hembra\")\n",
    "\n",
    "mi_oveja.describeme()\n",
    "mi_oveja.moverse(33)\n",
    "mi_oveja.miSexo()\n",
    "mi_oveja.hablar()"
   ]
  },
  {
   "cell_type": "markdown",
   "id": "8db2fa78",
   "metadata": {},
   "source": [
    "## Herencia multiple\n",
    "\n",
    "En Python es posible realizar herencia múltiple. En otros posts hemos visto como se podía crear una clase padre que heredaba de una clase hija, pudiendo hacer uso de sus métodos y atributos. La herencia múltiple es similar, pero una clase hereda de varias clases padre en vez de una sola.\n",
    "\n",
    "Veamos un ejemplo. Por un lado tenemos dos clases Clase1 y Clase2, y por otro tenemos la Clase3 que hereda de las dos anteriores. Por lo tanto, heredará todos los métodos y atributos de ambas."
   ]
  },
  {
   "cell_type": "code",
   "execution_count": 2,
   "id": "c98575d7",
   "metadata": {},
   "outputs": [],
   "source": [
    "#Clase 1\n",
    "class Clase1:\n",
    "    #Contructor 1\n",
    "    def __init__(self, valor1, valor2):\n",
    "        self.valor1 = valor1\n",
    "        self.valor2 = valor2\n",
    "    \n",
    "    def dialogo1(self):\n",
    "        print(\"Soy la clase 1 y tengo {} y {} como valores\".format(self.valor1,self.valor2))\n",
    "        \n",
    "#Clase 2\n",
    "class Clase2:\n",
    "    #Contructor 2\n",
    "    def __init__(self, valor3, valor4):\n",
    "        self.valor3 = valor3\n",
    "        self.valor4 = valor4\n",
    "        \n",
    "    def dialogo2(self):\n",
    "        print(\"Soy la clase 2 y tengo {} y {} como valores\".format(self.valor3,self.valor4))\n",
    "        \n",
    "#Clase con herencia multiple\n",
    "class Clase3(Clase1, Clase2):\n",
    "    #Contructor multiple\n",
    "    def __init__(self, valor1, valor2, valor3, valor4, valor5, valor6):\n",
    "        #Mandamos argumentos a los padres\n",
    "        Clase1.__init__(self, valor1, valor2)\n",
    "        Clase2.__init__(self, valor3, valor4)\n",
    "        self.valor5 = valor5\n",
    "        self.valor6 = valor6\n",
    "    \n",
    "    def dialogo3(self):\n",
    "        print(\"Soy la clase 3 y tengo {} y {} como valores\".format(self.valor5,self.valor6))\n",
    "    "
   ]
  },
  {
   "cell_type": "code",
   "execution_count": 3,
   "id": "cff021e4",
   "metadata": {},
   "outputs": [
    {
     "name": "stdout",
     "output_type": "stream",
     "text": [
      "Soy la clase 1 y tengo 1 y 2 como valores\n",
      "Soy la clase 2 y tengo 3 y 4 como valores\n",
      "Soy la clase 3 y tengo 5 y 6 como valores\n"
     ]
    }
   ],
   "source": [
    "obj1 = Clase3(1,2,3,4,5,6)\n",
    "obj1.dialogo1()\n",
    "obj1.dialogo2()\n",
    "obj1.dialogo3()"
   ]
  },
  {
   "cell_type": "markdown",
   "id": "3fc157f7",
   "metadata": {},
   "source": [
    "Es posible también que una clase herede de otra clase y a su vez otra clase herede de la anterior."
   ]
  },
  {
   "cell_type": "code",
   "execution_count": 4,
   "id": "ab0c63ea",
   "metadata": {},
   "outputs": [],
   "source": [
    "class Clase4:\n",
    "    pass\n",
    "class Clase5(Clase4):\n",
    "    pass\n",
    "class Clase6(Clase5):\n",
    "    pass"
   ]
  },
  {
   "cell_type": "markdown",
   "id": "1ead7b09",
   "metadata": {},
   "source": [
    "# INTERFACES\n",
    "En la programación orientada a objetos, un interfaz define al conjunto de métodos que tiene que tener un objeto para que pueda cumplir una determinada función en nuestro sistema. Dicho de otra manera, un interfaz define como se comporta un objeto y lo que se puede hacer con el.\n",
    "\n",
    "#### Ejemplo 1 - Interfaces formales\n",
    "Los interfaces formales pueden ser definidas en Python utilizando el módulo por defecto llamado ABC (Abstract Base Classes). Los abc fueron añadidos a Python en la PEP3119.\n",
    "Simplemente definen una forma de crear interfaces (a través de metaclases) en los que se definen unos métodos (pero no se implementan) y donde se fuerza a las clases que usan ese interfaz a implementar los métodos. \n",
    "\n",
    "El interfaz más sencillo que podemos crear es de la siguiente manera, heredando de abc.ABC."
   ]
  },
  {
   "cell_type": "code",
   "execution_count": 10,
   "id": "8085601d",
   "metadata": {},
   "outputs": [],
   "source": [
    "from abc import ABC\n",
    "class Mando(ABC):\n",
    "    pass"
   ]
  },
  {
   "cell_type": "markdown",
   "id": "81973501",
   "metadata": {},
   "source": [
    "La siguiente sintaxis es también válida, y aunque se sale del contenido de este capítulo, es importante que asocies el módulo abc con las metaclases."
   ]
  },
  {
   "cell_type": "code",
   "execution_count": 11,
   "id": "9a67c118",
   "metadata": {},
   "outputs": [],
   "source": [
    "from abc import ABCMeta\n",
    "class Mando(metaclass=ABCMeta):\n",
    "    pass"
   ]
  },
  {
   "cell_type": "markdown",
   "id": "c4d95432",
   "metadata": {},
   "source": [
    "En este ejemplo podemos observar como se usa el decorador @abstractmethod.\n",
    "\n",
    "Un método abstracto es un método que no tiene una implementación, es decir, que no lleva código. Un método definido con este decorador, forzará a las clases que implementen dicho interfaz a codificarlo.\n",
    "\n",
    "Veamos como queda nuestro interfaz formal Mando."
   ]
  },
  {
   "cell_type": "code",
   "execution_count": 31,
   "id": "a0a8ff5f",
   "metadata": {},
   "outputs": [],
   "source": [
    "#Importaciones\n",
    "from abc import abstractmethod\n",
    "from abc import ABCMeta\n",
    "\n",
    "#Interface\n",
    "class Mando(metaclass=ABCMeta):\n",
    "    #Metodo abstracto\n",
    "    @abstractmethod\n",
    "    def siguiente_canal(self):\n",
    "        pass\n",
    "\n",
    "    @abstractmethod\n",
    "    def canal_anterior(self):\n",
    "        pass\n",
    "\n",
    "    @abstractmethod\n",
    "    def subir_volumen(self):\n",
    "        pass\n",
    "\n",
    "    @abstractmethod\n",
    "    def bajar_volumen(self):\n",
    "        pass"
   ]
  },
  {
   "cell_type": "code",
   "execution_count": 32,
   "id": "3f225fa7",
   "metadata": {},
   "outputs": [],
   "source": [
    "class MandoSamsung(Mando):\n",
    "    def siguiente_canal(self):\n",
    "        print(\"Samsung->Siguiente\")\n",
    "    def canal_anterior(self):\n",
    "        print(\"Samsung->Anterior\")\n",
    "    def subir_volumen(self):\n",
    "        print(\"Samsung->Subir\")\n",
    "    def bajar_volumen(self):\n",
    "        print(\"Samsung->Bajar\")\n"
   ]
  },
  {
   "cell_type": "code",
   "execution_count": 35,
   "id": "56771c3d",
   "metadata": {},
   "outputs": [
    {
     "name": "stdout",
     "output_type": "stream",
     "text": [
      "Error, No se puede crear un Objeto mando con metodos astraptos\n",
      "\n",
      "Samsung->Siguiente\n",
      "Samsung->Anterior\n",
      "Samsung->Subir\n",
      "Samsung->Bajar\n"
     ]
    }
   ],
   "source": [
    "#No se puede crear un obj mando\n",
    "try:\n",
    "    mando = Mando()\n",
    "except TypeError:\n",
    "    print(\"Error, No se puede crear un Objeto mando con metodos astraptos\", end=\"\\n\\n\")\n",
    "#Obj MandoSamsung\n",
    "mandoSng = MandoSamsung()\n",
    "mandoSng.siguiente_canal()\n",
    "mandoSng.canal_anterior()\n",
    "mandoSng.subir_volumen()\n",
    "mandoSng.bajar_volumen()"
   ]
  },
  {
   "cell_type": "markdown",
   "id": "8b6f4ad2",
   "metadata": {},
   "source": [
    "# HILOS EN PYTHON\n",
    "\n",
    "Un hilo es un proceso del sistema operativo con características distintas de las de un proceso normal:\n",
    "\n",
    "* Los hilos existen como subconjuntos de los procesos.\n",
    "* Los hilos comparten memoria y recursos.\n",
    "* Los hilos ocupan una dirección diferente en la memoria\n",
    "\n",
    "En Python 2.X se pueden crear hilos utilizando el módulo threads y en Python 3.X se pueden crear utilizando el módulo _threads. El módulo threading será utilizado para interactuar con el módulo _threads.\n",
    "\n",
    "¿Cuando implementar hilos? Cuando se quiera ejecutar una función al mismo tiempo que se ejecuta un programa. Cuando se crea software para servidores se quiere que el servidor no reciba solo una sino múltiples conexiones. En pocas palabras, los hilos permiten completar varias tareas al mismo tiempo.\n",
    "\n",
    "### Ejemplo 1 con hilos ( se iniciaran 10. Cada uno imprimirá su ID)"
   ]
  },
  {
   "cell_type": "code",
   "execution_count": 63,
   "id": "51ae1198",
   "metadata": {},
   "outputs": [
    {
     "name": "stdout",
     "output_type": "stream",
     "text": [
      "0\n",
      "1\n",
      "2\n"
     ]
    }
   ],
   "source": [
    "#Importacion\n",
    "import threading\n",
    "# Clase hilo\n",
    "class MiHilo(threading.Thread):\n",
    "    \n",
    "    #Constructor\n",
    "    def __init__(self,x):\n",
    "        self.__x = x\n",
    "        threading.Thread.__init__(self)\n",
    "    \n",
    "     # run() se utiliza para definir el comportamiento del hilo\n",
    "    def run (self): \n",
    "        print(str(self.__x))\n",
    "            \n",
    "            \n",
    "# Iniciamos 3 hilos.\n",
    "for i in range(3):\n",
    "    #Iniciamos\n",
    "    MiHilo(i).start()\n",
    "    #Pausamos\n",
    "    sleep(1)"
   ]
  },
  {
   "cell_type": "markdown",
   "id": "c369a2ba",
   "metadata": {},
   "source": [
    "### Hilos Cronometrados en Python:\n",
    "En python, la clase Timer (temporizador) es una subclase de la clase Threads (hilos). Esto significa que se comporta de manera similar. La clase Timer puede ser utilizada para crear hilos temporizados. Los temporizadores son iniciados con el método .start() al igual que los hilos normales. El siguiente programa crea un hilo que se inicia luego de 3 segundos:"
   ]
  },
  {
   "cell_type": "code",
   "execution_count": 69,
   "id": "3e9f497d",
   "metadata": {},
   "outputs": [
    {
     "name": "stdout",
     "output_type": "stream",
     "text": [
      "Hola mundo!, soy el hilo 1\n"
     ]
    }
   ],
   "source": [
    "from threading import *\n",
    "def hola():\n",
    "    #Pausamos\n",
    "    sleep(1)\n",
    "    print(\"Hola mundo!, soy el hilo {}\".format(1))\n",
    "# Creacion del hilo\n",
    "t = Timer(3,hola)      # Timer() recibe como primer parámetro el intervalo de tiempo que será usado\n",
    "                       # y como segundo parámetro la función a ejecutar. También recibe como 3er parámetro\n",
    "# Ejecución del Hilo   # argumentos (args) y como 4to parametro argumentos de palabras clave (kwargs)\n",
    "t.start()              # Por defecto, ambos tienen como valor 'None'"
   ]
  },
  {
   "cell_type": "markdown",
   "id": "b1141e48",
   "metadata": {},
   "source": [
    "# FUNCIONES CON TEMPORIZADOR\n",
    "\n",
    "### Uso de la función time.time() en Python\n",
    "\n",
    "#### Esta función devuelve el tiempo en segundos. \n",
    "\n",
    "Son los segundos que pasan después de la época: el 1 de enero de 1970, 00:00:00 (UTC). Esta función utiliza el tiempo establecido del sistema informático para devolver la salida, es decir, el número de segundos."
   ]
  },
  {
   "cell_type": "code",
   "execution_count": 47,
   "id": "c1d30473",
   "metadata": {},
   "outputs": [
    {
     "name": "stdout",
     "output_type": "stream",
     "text": [
      "0.022666454315185547\n"
     ]
    }
   ],
   "source": [
    "#Importacion\n",
    "import time\n",
    "\n",
    "#Optenemos el tiempo actual\n",
    "start = time.time()\n",
    "\n",
    "#Bucle de 1 a 20,0000\n",
    "for r in range(1,200000):\n",
    "    pass\n",
    "\n",
    "#Optenemos el tiempo actual\n",
    "end = time.time()\n",
    "\n",
    "#A el final le restamos el inicio\n",
    "print(format(end-start))"
   ]
  },
  {
   "cell_type": "markdown",
   "id": "38a47c5f",
   "metadata": {},
   "source": [
    "Entre start y end, aparece el cuerpo principal del código. Aquí, se toma como ejemplo un bucle for.\n",
    "Producción:"
   ]
  },
  {
   "cell_type": "markdown",
   "id": "b2acf600",
   "metadata": {},
   "source": [
    "### Uso de la función time.Process_time() en Python\n",
    "\n",
    "#### Esta función devuelve el tiempo en fracciones de segundo.\n",
    "\n",
    " La referencia de tiempo de todo el proceso también se registra en la función y no solo el tiempo transcurrido durante el proceso."
   ]
  },
  {
   "cell_type": "code",
   "execution_count": 49,
   "id": "f2e2cd68",
   "metadata": {},
   "outputs": [
    {
     "name": "stdout",
     "output_type": "stream",
     "text": [
      "0 1 2 3 4 5 6 7 8 9 10 11 12 13 14 15 16 17 18 19 29.609375 29.609375\n",
      "0.0\n"
     ]
    }
   ],
   "source": [
    "#Importacione\n",
    "from time import process_time, sleep\n",
    "\n",
    "#Tiempo inicial\n",
    "start = process_time()  \n",
    "\n",
    "#Estructura repetitiva\n",
    "for r in range(20):\n",
    "    print(r, end=\" \")\n",
    "\n",
    "#Tiempo final\n",
    "end = process_time()\n",
    "\n",
    "#Salida\n",
    "print(end, start)\n",
    "print(end-start)"
   ]
  },
  {
   "cell_type": "markdown",
   "id": "a111186e",
   "metadata": {},
   "source": [
    "El tiempo empleado en time.sleep() no se mide con esta función, lo que significa que solo mide la diferencia de tiempo entre dos referencias de tiempo consecutivas.\n",
    "\n",
    "### Uso de la función time.Perf_counter en Python\n",
    "\n",
    "#### Esta función solo debe aplicarse a procesos pequeños ya que es muy precisa.\n",
    "\n",
    "También conocida como Contador de rendimiento, esta función ayuda a obtener el conteo de tiempo entre dos referencias de una manera más precisa. Esta función solo debe aplicarse a procesos pequeños ya que es muy precisa.\n",
    "\n",
    "También podemos usar time.sleep() entre esta función. Con esta función, la ejecución del código puede suspenderse durante varios segundos. La función sleep() toma un valor flotante como argumento.\n",
    "\n"
   ]
  },
  {
   "cell_type": "code",
   "execution_count": 53,
   "id": "fdf8fe51",
   "metadata": {},
   "outputs": [
    {
     "name": "stdout",
     "output_type": "stream",
     "text": [
      "Segundo 1\n",
      "Segundo 2\n",
      "Segundo 3\n",
      "3.012806399958208\n"
     ]
    }
   ],
   "source": [
    "#Importaciones\n",
    "from time import perf_counter, sleep\n",
    "\n",
    "#Segundos a tardar\n",
    "segundos = 3\n",
    "\n",
    "#Inicio\n",
    "start = perf_counter()  \n",
    "\n",
    "#Bucle\n",
    "for r in range(n): \n",
    "    #Segundo actual\n",
    "    print(\"Segundo {}\".format(r+1))\n",
    "    #Pausa en segundos\n",
    "    sleep(1)\n",
    "\n",
    "#Final\n",
    "end = perf_counter() \n",
    "\n",
    "#Calcular tiempo trascurrido\n",
    "print(end-start)"
   ]
  },
  {
   "cell_type": "code",
   "execution_count": null,
   "id": "80a8ee47",
   "metadata": {},
   "outputs": [],
   "source": []
  }
 ],
 "metadata": {
  "kernelspec": {
   "display_name": "Python 3 (ipykernel)",
   "language": "python",
   "name": "python3"
  },
  "language_info": {
   "codemirror_mode": {
    "name": "ipython",
    "version": 3
   },
   "file_extension": ".py",
   "mimetype": "text/x-python",
   "name": "python",
   "nbconvert_exporter": "python",
   "pygments_lexer": "ipython3",
   "version": "3.10.4"
  }
 },
 "nbformat": 4,
 "nbformat_minor": 5
}
